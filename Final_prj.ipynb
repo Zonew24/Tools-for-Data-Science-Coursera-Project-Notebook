{
 "cells": [
  {
   "cell_type": "markdown",
   "id": "a0c594fd-7960-4063-9f7c-2f8f0c5af467",
   "metadata": {},
   "source": [
    "# Data Science Notebook"
   ]
  },
  {
   "cell_type": "markdown",
   "id": "b250e4ee-ab68-434b-92d8-76f71aafa720",
   "metadata": {},
   "source": [
    "## Introduction\n",
    "This notebook contains an overview of key concepts in Data Science, including programming languages, libraries, tools, and arithmetic operations."
   ]
  },
  {
   "cell_type": "markdown",
   "id": "3f24f1e3-1dfe-4b6c-bb29-00b54bb70562",
   "metadata": {},
   "source": [
    "## Data Science Languages\n",
    "- Python\n",
    "- R\n",
    "- SQL\n",
    "- Julia\n",
    "- Java\n",
    "- Scala"
   ]
  },
  {
   "cell_type": "markdown",
   "id": "bb19fc3e-afb0-4614-bad6-58a9b78230a2",
   "metadata": {},
   "source": [
    "## Data Science Libraries\n",
    "- NumPy\n",
    "- Pandas\n",
    "- Matplotlib\n",
    "- Scikit-learn\n",
    "- TensorFlow\n",
    "- Keras"
   ]
  },
  {
   "cell_type": "markdown",
   "id": "c69ed7b7-9811-4cf8-8634-cd6a8ef29866",
   "metadata": {},
   "source": [
    "## Data Science Tools\n",
    "\n",
    "| Tool | Description |\n",
    "|------|-------------|\n",
    "| Jupyter Notebook | Interactive coding environment |\n",
    "| RStudio | IDE for R programming |\n",
    "| Apache Spark | Big data processing |\n",
    "| TensorFlow | Machine learning framework |\n",
    "| Tableau | Data visualization |"
   ]
  },
  {
   "cell_type": "markdown",
   "id": "ef86d63e-5b48-4e6d-93da-707863a67130",
   "metadata": {},
   "source": [
    "## Arithmetic Expression Examples\n",
    "Arithmetic expressions are used to perform mathematical operations.\n"
   ]
  },
  {
   "cell_type": "markdown",
   "id": "d3899fa3-8ef6-4808-882e-1f91960c2690",
   "metadata": {},
   "source": [
    "### Example 1: Multiplication and Addition\n",
    "```python\n",
    "result = (3 * 4) + 5\n",
    "print(result)\n",
    "```"
   ]
  },
  {
   "cell_type": "code",
   "execution_count": 35,
   "id": "228af52d-c2b0-4b6c-acfd-a107d20b1d62",
   "metadata": {},
   "outputs": [
    {
     "name": "stdout",
     "output_type": "stream",
     "text": [
      "17\n"
     ]
    }
   ],
   "source": [
    "result = (3 * 4) + 5\n",
    "print(result)"
   ]
  },
  {
   "cell_type": "markdown",
   "id": "0994cf16-b12f-44ac-a9d4-1b0dadafc2b5",
   "metadata": {},
   "source": [
    "### Example 2: Convert Minutes to Hours\n",
    "```python\n",
    "minutes = 120\n",
    "hours = minutes / 60\n",
    "print(hours)\n",
    "```"
   ]
  },
  {
   "cell_type": "code",
   "execution_count": 40,
   "id": "4ff347b3-ccf7-4200-960f-77787aefe5b8",
   "metadata": {},
   "outputs": [
    {
     "name": "stdout",
     "output_type": "stream",
     "text": [
      "2.0\n"
     ]
    }
   ],
   "source": [
    "minutes = 120\n",
    "hours = minutes / 60\n",
    "print(hours)"
   ]
  },
  {
   "cell_type": "markdown",
   "id": "7a3ef58e-eb5d-440a-9a43-d48dc9c087b8",
   "metadata": {},
   "source": [
    "## Objectives\n",
    "- Understand Data Science languages\n",
    "- Learn about Data Science libraries\n",
    "- Explore Data Science tools\n",
    "- Perform basic arithmetic operations in code"
   ]
  },
  {
   "cell_type": "markdown",
   "id": "8b9d2d55-b5e4-484a-83ad-c22bcd8c6d60",
   "metadata": {},
   "source": [
    "## Author\n",
    "**Trịnh Việt Dương**"
   ]
  },
  {
   "cell_type": "code",
   "execution_count": null,
   "id": "38cb5320-994f-433d-a098-12d33fb7a8c6",
   "metadata": {},
   "outputs": [],
   "source": []
  }
 ],
 "metadata": {
  "kernelspec": {
   "display_name": "Python [conda env:base] *",
   "language": "python",
   "name": "conda-base-py"
  },
  "language_info": {
   "codemirror_mode": {
    "name": "ipython",
    "version": 3
   },
   "file_extension": ".py",
   "mimetype": "text/x-python",
   "name": "python",
   "nbconvert_exporter": "python",
   "pygments_lexer": "ipython3",
   "version": "3.12.7"
  }
 },
 "nbformat": 4,
 "nbformat_minor": 5
}
